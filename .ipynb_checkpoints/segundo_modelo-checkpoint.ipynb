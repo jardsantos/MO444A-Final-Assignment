{
 "cells": [
  {
   "cell_type": "code",
   "execution_count": 1,
   "metadata": {},
   "outputs": [],
   "source": [
    "import pandas as pd\n",
    "import re\n",
    "import numpy as np\n",
    "\n",
    "data = pd.read_pickle('../../data/trojans_dataset.pkl')"
   ]
  },
  {
   "cell_type": "markdown",
   "metadata": {},
   "source": [
    "## PRE PROCESSING"
   ]
  },
  {
   "cell_type": "code",
   "execution_count": 234,
   "metadata": {},
   "outputs": [
    {
     "data": {
      "text/html": [
       "<div>\n",
       "<style scoped>\n",
       "    .dataframe tbody tr th:only-of-type {\n",
       "        vertical-align: middle;\n",
       "    }\n",
       "\n",
       "    .dataframe tbody tr th {\n",
       "        vertical-align: top;\n",
       "    }\n",
       "\n",
       "    .dataframe thead th {\n",
       "        text-align: right;\n",
       "    }\n",
       "</style>\n",
       "<table border=\"1\" class=\"dataframe\">\n",
       "  <thead>\n",
       "    <tr style=\"text-align: right;\">\n",
       "      <th></th>\n",
       "      <th>crc32</th>\n",
       "      <th>urls</th>\n",
       "      <th>static.pe.imported_dll_count</th>\n",
       "      <th>exiftool.EXE-CodeSize</th>\n",
       "      <th>exiftool.File-FileSize</th>\n",
       "      <th>die.library</th>\n",
       "      <th>die.compiler</th>\n",
       "      <th>die.linker</th>\n",
       "      <th>exiftool.EXE-CharacterSet</th>\n",
       "      <th>exiftool.EXE-ObjectFileType</th>\n",
       "      <th>exiftool.EXE-LegalCopyright</th>\n",
       "      <th>exiftool.EXE-FileDescription</th>\n",
       "      <th>vt.total_scans</th>\n",
       "    </tr>\n",
       "  </thead>\n",
       "  <tbody>\n",
       "    <tr>\n",
       "      <th>0</th>\n",
       "      <td>1BA5D135</td>\n",
       "      <td>[]</td>\n",
       "      <td>0.0</td>\n",
       "      <td>570880</td>\n",
       "      <td>2.4 MB</td>\n",
       "      <td>NaN</td>\n",
       "      <td>NaN</td>\n",
       "      <td>Microsoft Linker(11.0)[EXE32]</td>\n",
       "      <td>NaN</td>\n",
       "      <td>NaN</td>\n",
       "      <td>NaN</td>\n",
       "      <td>NaN</td>\n",
       "      <td>68.0</td>\n",
       "    </tr>\n",
       "    <tr>\n",
       "      <th>1</th>\n",
       "      <td>49851D2F</td>\n",
       "      <td>[]</td>\n",
       "      <td>1.0</td>\n",
       "      <td>116736</td>\n",
       "      <td>201 kB</td>\n",
       "      <td>NaN</td>\n",
       "      <td>Microsoft Visual C/C++(2008 SP1)[libcmt]</td>\n",
       "      <td>Microsoft Linker(9.0)[EXE32]</td>\n",
       "      <td>NaN</td>\n",
       "      <td>NaN</td>\n",
       "      <td>NaN</td>\n",
       "      <td>NaN</td>\n",
       "      <td>65.0</td>\n",
       "    </tr>\n",
       "    <tr>\n",
       "      <th>2</th>\n",
       "      <td>E0774FB9</td>\n",
       "      <td>[]</td>\n",
       "      <td>0.0</td>\n",
       "      <td>13824</td>\n",
       "      <td>36 kB</td>\n",
       "      <td>NaN</td>\n",
       "      <td>Microsoft Visual C/C++(2008 SP1)[-]</td>\n",
       "      <td>Microsoft Linker(9.0)[DLL32]</td>\n",
       "      <td>NaN</td>\n",
       "      <td>NaN</td>\n",
       "      <td>NaN</td>\n",
       "      <td>NaN</td>\n",
       "      <td>NaN</td>\n",
       "    </tr>\n",
       "    <tr>\n",
       "      <th>3</th>\n",
       "      <td>6E8CAC13</td>\n",
       "      <td>[]</td>\n",
       "      <td>10.0</td>\n",
       "      <td>389120</td>\n",
       "      <td>459 kB</td>\n",
       "      <td>NaN</td>\n",
       "      <td>Borland C++(Builder)[-]</td>\n",
       "      <td>Turbo Linker(5.0)[EXE32]</td>\n",
       "      <td>NaN</td>\n",
       "      <td>NaN</td>\n",
       "      <td>NaN</td>\n",
       "      <td>NaN</td>\n",
       "      <td>68.0</td>\n",
       "    </tr>\n",
       "    <tr>\n",
       "      <th>4</th>\n",
       "      <td>B3191AD1</td>\n",
       "      <td>[]</td>\n",
       "      <td>0.0</td>\n",
       "      <td>260608</td>\n",
       "      <td>288 kB</td>\n",
       "      <td>NaN</td>\n",
       "      <td>Microsoft Visual C/C++(2008 SP1)[-]</td>\n",
       "      <td>Microsoft Linker(9.0)[DLL32,console]</td>\n",
       "      <td>NaN</td>\n",
       "      <td>NaN</td>\n",
       "      <td>NaN</td>\n",
       "      <td>NaN</td>\n",
       "      <td>NaN</td>\n",
       "    </tr>\n",
       "    <tr>\n",
       "      <th>5</th>\n",
       "      <td>9CF3E88A</td>\n",
       "      <td>[http://cache-download.real.com/free/windows/i...</td>\n",
       "      <td>0.0</td>\n",
       "      <td>660480</td>\n",
       "      <td>1104 kB</td>\n",
       "      <td>NaN</td>\n",
       "      <td>NaN</td>\n",
       "      <td>Microsoft Linker(10.0)[EXE32]</td>\n",
       "      <td>NaN</td>\n",
       "      <td>NaN</td>\n",
       "      <td>NaN</td>\n",
       "      <td>NaN</td>\n",
       "      <td>NaN</td>\n",
       "    </tr>\n",
       "    <tr>\n",
       "      <th>6</th>\n",
       "      <td>B476670A</td>\n",
       "      <td>[http://www.mozilla.org/editor/midasdemo/secur...</td>\n",
       "      <td>40.0</td>\n",
       "      <td>10261504</td>\n",
       "      <td>13 MB</td>\n",
       "      <td>NaN</td>\n",
       "      <td>Embarcadero Delphi(XE2-XE6)[-]</td>\n",
       "      <td>Turbo Linker(2.25*,Delphi)[EXE32]</td>\n",
       "      <td>Windows, Latin1</td>\n",
       "      <td>Executable application</td>\n",
       "      <td>NaN</td>\n",
       "      <td>NaN</td>\n",
       "      <td>62.0</td>\n",
       "    </tr>\n",
       "    <tr>\n",
       "      <th>7</th>\n",
       "      <td>BF296A23</td>\n",
       "      <td>[http://lame.sf.net, http://www.openssl.org/su...</td>\n",
       "      <td>15.0</td>\n",
       "      <td>1247232</td>\n",
       "      <td>2.6 MB</td>\n",
       "      <td>NaN</td>\n",
       "      <td>Microsoft Visual C/C++(2008)[libcmt,wWinMain]</td>\n",
       "      <td>Microsoft Linker(9.0)[EXE32]</td>\n",
       "      <td>NaN</td>\n",
       "      <td>NaN</td>\n",
       "      <td>NaN</td>\n",
       "      <td>NaN</td>\n",
       "      <td>63.0</td>\n",
       "    </tr>\n",
       "    <tr>\n",
       "      <th>8</th>\n",
       "      <td>9EF6D7FD</td>\n",
       "      <td>[]</td>\n",
       "      <td>0.0</td>\n",
       "      <td>93696</td>\n",
       "      <td>128 kB</td>\n",
       "      <td>NaN</td>\n",
       "      <td>Microsoft Visual C/C++(2008 SP1)[-]</td>\n",
       "      <td>Microsoft Linker(9.0)[DLL32]</td>\n",
       "      <td>NaN</td>\n",
       "      <td>NaN</td>\n",
       "      <td>NaN</td>\n",
       "      <td>NaN</td>\n",
       "      <td>NaN</td>\n",
       "    </tr>\n",
       "    <tr>\n",
       "      <th>9</th>\n",
       "      <td>3ABEE28F</td>\n",
       "      <td>[http://ts-crl.ws.symantec.com/tss-ca-g2.crl0(...</td>\n",
       "      <td>3.0</td>\n",
       "      <td>2048</td>\n",
       "      <td>16 kB</td>\n",
       "      <td>NaN</td>\n",
       "      <td>Microsoft Visual C/C++(2010 SP1)[-]</td>\n",
       "      <td>Microsoft Linker(10.0)[EXE64,console,signed]</td>\n",
       "      <td>Unicode</td>\n",
       "      <td>Executable application</td>\n",
       "      <td>Copyright © 2015</td>\n",
       "      <td>Java(TM) Platform SE binary</td>\n",
       "      <td>NaN</td>\n",
       "    </tr>\n",
       "  </tbody>\n",
       "</table>\n",
       "</div>"
      ],
      "text/plain": [
       "      crc32                                               urls  \\\n",
       "0  1BA5D135                                                 []   \n",
       "1  49851D2F                                                 []   \n",
       "2  E0774FB9                                                 []   \n",
       "3  6E8CAC13                                                 []   \n",
       "4  B3191AD1                                                 []   \n",
       "5  9CF3E88A  [http://cache-download.real.com/free/windows/i...   \n",
       "6  B476670A  [http://www.mozilla.org/editor/midasdemo/secur...   \n",
       "7  BF296A23  [http://lame.sf.net, http://www.openssl.org/su...   \n",
       "8  9EF6D7FD                                                 []   \n",
       "9  3ABEE28F  [http://ts-crl.ws.symantec.com/tss-ca-g2.crl0(...   \n",
       "\n",
       "   static.pe.imported_dll_count exiftool.EXE-CodeSize exiftool.File-FileSize  \\\n",
       "0                           0.0                570880                 2.4 MB   \n",
       "1                           1.0                116736                 201 kB   \n",
       "2                           0.0                 13824                  36 kB   \n",
       "3                          10.0                389120                 459 kB   \n",
       "4                           0.0                260608                 288 kB   \n",
       "5                           0.0                660480                1104 kB   \n",
       "6                          40.0              10261504                  13 MB   \n",
       "7                          15.0               1247232                 2.6 MB   \n",
       "8                           0.0                 93696                 128 kB   \n",
       "9                           3.0                  2048                  16 kB   \n",
       "\n",
       "  die.library                                   die.compiler  \\\n",
       "0         NaN                                            NaN   \n",
       "1         NaN       Microsoft Visual C/C++(2008 SP1)[libcmt]   \n",
       "2         NaN            Microsoft Visual C/C++(2008 SP1)[-]   \n",
       "3         NaN                        Borland C++(Builder)[-]   \n",
       "4         NaN            Microsoft Visual C/C++(2008 SP1)[-]   \n",
       "5         NaN                                            NaN   \n",
       "6         NaN                 Embarcadero Delphi(XE2-XE6)[-]   \n",
       "7         NaN  Microsoft Visual C/C++(2008)[libcmt,wWinMain]   \n",
       "8         NaN            Microsoft Visual C/C++(2008 SP1)[-]   \n",
       "9         NaN            Microsoft Visual C/C++(2010 SP1)[-]   \n",
       "\n",
       "                                     die.linker exiftool.EXE-CharacterSet  \\\n",
       "0                 Microsoft Linker(11.0)[EXE32]                       NaN   \n",
       "1                  Microsoft Linker(9.0)[EXE32]                       NaN   \n",
       "2                  Microsoft Linker(9.0)[DLL32]                       NaN   \n",
       "3                      Turbo Linker(5.0)[EXE32]                       NaN   \n",
       "4          Microsoft Linker(9.0)[DLL32,console]                       NaN   \n",
       "5                 Microsoft Linker(10.0)[EXE32]                       NaN   \n",
       "6             Turbo Linker(2.25*,Delphi)[EXE32]           Windows, Latin1   \n",
       "7                  Microsoft Linker(9.0)[EXE32]                       NaN   \n",
       "8                  Microsoft Linker(9.0)[DLL32]                       NaN   \n",
       "9  Microsoft Linker(10.0)[EXE64,console,signed]                   Unicode   \n",
       "\n",
       "  exiftool.EXE-ObjectFileType exiftool.EXE-LegalCopyright  \\\n",
       "0                         NaN                         NaN   \n",
       "1                         NaN                         NaN   \n",
       "2                         NaN                         NaN   \n",
       "3                         NaN                         NaN   \n",
       "4                         NaN                         NaN   \n",
       "5                         NaN                         NaN   \n",
       "6      Executable application                         NaN   \n",
       "7                         NaN                         NaN   \n",
       "8                         NaN                         NaN   \n",
       "9      Executable application            Copyright © 2015   \n",
       "\n",
       "  exiftool.EXE-FileDescription  vt.total_scans  \n",
       "0                          NaN            68.0  \n",
       "1                          NaN            65.0  \n",
       "2                          NaN             NaN  \n",
       "3                          NaN            68.0  \n",
       "4                          NaN             NaN  \n",
       "5                          NaN             NaN  \n",
       "6                          NaN            62.0  \n",
       "7                          NaN            63.0  \n",
       "8                          NaN             NaN  \n",
       "9  Java(TM) Platform SE binary             NaN  "
      ]
     },
     "execution_count": 234,
     "metadata": {},
     "output_type": "execute_result"
    }
   ],
   "source": [
    "cols = ['crc32', 'urls','static.pe.imported_dll_count','exiftool.EXE-CodeSize',\n",
    "        'exiftool.File-FileSize','die.library','die.compiler','die.linker','exiftool.EXE-CharacterSet',\n",
    "        'exiftool.EXE-ObjectFileType', 'exiftool.EXE-LegalCopyright','exiftool.EXE-FileDescription',\n",
    "        'vt.total_scans']\n",
    "data[cols].head(10)"
   ]
  },
  {
   "cell_type": "code",
   "execution_count": 2,
   "metadata": {},
   "outputs": [],
   "source": [
    "data['CRC'] = data['crc32'].apply(lambda x: int(x,32))"
   ]
  },
  {
   "cell_type": "markdown",
   "metadata": {},
   "source": [
    "#### Column 'urls':\n",
    "<u>Description:</u> contains an array of urls accessed by the program file<br>\n",
    "<u>Action:</u> create a new feature that tells if the program file request urls or not"
   ]
  },
  {
   "cell_type": "code",
   "execution_count": 3,
   "metadata": {},
   "outputs": [],
   "source": [
    "data['HasUrls'] = data['urls'].apply(lambda x: len(x)>0)"
   ]
  },
  {
   "cell_type": "markdown",
   "metadata": {},
   "source": [
    "#### Column 'static.pe.imported_dll_count':\n",
    "<u>Description:</u> number of dlls used on file<br>\n",
    "<u>Action:</u> fill missing values with the mean of dlls"
   ]
  },
  {
   "cell_type": "code",
   "execution_count": 4,
   "metadata": {},
   "outputs": [],
   "source": [
    "mean = data['static.pe.imported_dll_count'].mean()\n",
    "data['DLL_COUNT'] = data['static.pe.imported_dll_count'].fillna(mean).astype(int)"
   ]
  },
  {
   "cell_type": "markdown",
   "metadata": {},
   "source": [
    "#### Column 'exiftool.EXE-CodeSize':\n",
    "<u>Description:</u> size of file source code<br>\n",
    "<u>Action:</u> fill missing values with the mean value"
   ]
  },
  {
   "cell_type": "code",
   "execution_count": 5,
   "metadata": {},
   "outputs": [],
   "source": [
    "mean = data['exiftool.EXE-CodeSize'].astype(float).mean()\n",
    "data['CodeSize'] = data['exiftool.EXE-CodeSize'].fillna(mean).astype(int)"
   ]
  },
  {
   "cell_type": "markdown",
   "metadata": {},
   "source": [
    "#### Column 'exiftool.File-FileSize':\n",
    "<u>Description:</u> file size<br>\n",
    "<u>Action:</u> create a magnitude order of size as: bytes, kB, MB, large"
   ]
  },
  {
   "cell_type": "code",
   "execution_count": 235,
   "metadata": {},
   "outputs": [],
   "source": [
    "def size_extract(x):\n",
    "    number, order = x.split()\n",
    "    if((float(number)>100) & (order=='MB')):\n",
    "        order = 'large'\n",
    "    return order\n",
    "\n",
    "data['FileSize'] = data['exiftool.File-FileSize'].apply(size_extract).astype('category')"
   ]
  },
  {
   "cell_type": "markdown",
   "metadata": {},
   "source": [
    "#### Columns 'die.library', 'die.compiler', 'die.linker':\n",
    "<u>Description:</u> tells the library, compiler e linker used to create the file<br>\n",
    "<u>Action:</u> create categories for these columns"
   ]
  },
  {
   "cell_type": "code",
   "execution_count": 236,
   "metadata": {},
   "outputs": [],
   "source": [
    "data['Library'] = data['die.library'].fillna('unknown') \\\n",
    "                .astype('str').apply(lambda x: re.sub(r'\\(.*','',x.lower())).astype('category')"
   ]
  },
  {
   "cell_type": "code",
   "execution_count": 57,
   "metadata": {},
   "outputs": [],
   "source": [
    "data['Compiler'] = data['die.compiler'].fillna('unknown') \\\n",
    "                .astype('str').apply(lambda x: re.sub(r'\\(.*','',x.lower())).astype('category')"
   ]
  },
  {
   "cell_type": "code",
   "execution_count": 237,
   "metadata": {},
   "outputs": [],
   "source": [
    "data['Linker'] = data['die.linker'].fillna('unknown') \\\n",
    "                .astype('str').apply(lambda x: re.sub(r'\\(.*','',x.lower())).astype('category')"
   ]
  },
  {
   "cell_type": "code",
   "execution_count": 241,
   "metadata": {},
   "outputs": [
    {
     "data": {
      "text/plain": [
       "microsoft linker    14077\n",
       "unknown              3612\n",
       "turbo linker         1572\n",
       "gnu linker            691\n",
       "polink                 40\n",
       "lcc linker              5\n",
       "watcom linker           2\n",
       "borland tlink           1\n",
       "Name: Linker, dtype: int64"
      ]
     },
     "execution_count": 241,
     "metadata": {},
     "output_type": "execute_result"
    }
   ],
   "source": [
    "# Example of categories\n",
    "data['Linker'].value_counts()"
   ]
  },
  {
   "cell_type": "markdown",
   "metadata": {},
   "source": [
    "#### Columns 'exiftool.EXE-CharacterSet':\n",
    "<u>Description:</u> charset type<br>\n",
    "<u>Action:</u> create categories for this column"
   ]
  },
  {
   "cell_type": "code",
   "execution_count": 242,
   "metadata": {},
   "outputs": [],
   "source": [
    "def charset(x):\n",
    "    if ((x!='Unicode') & (x!='Windows, Latin1') & (x!='ASCII')):\n",
    "        x = 'Other'\n",
    "    return x\n",
    "data['CharSet'] = data['exiftool.EXE-CharacterSet'].apply(charset).fillna('Other').astype('category')"
   ]
  },
  {
   "cell_type": "code",
   "execution_count": 243,
   "metadata": {},
   "outputs": [
    {
     "data": {
      "text/plain": [
       "Other              15544\n",
       "Unicode             3605\n",
       "Windows, Latin1      803\n",
       "ASCII                 48\n",
       "Name: CharSet, dtype: int64"
      ]
     },
     "execution_count": 243,
     "metadata": {},
     "output_type": "execute_result"
    }
   ],
   "source": [
    "# Example of charset categories\n",
    "data.CharSet.value_counts()"
   ]
  },
  {
   "cell_type": "markdown",
   "metadata": {},
   "source": [
    "#### Columns 'exiftool.EXE-ObjectFileType':\n",
    "<u>Description:</u> file type<br>\n",
    "<u>Action:</u> create categories for this column"
   ]
  },
  {
   "cell_type": "code",
   "execution_count": 245,
   "metadata": {},
   "outputs": [],
   "source": [
    "data['FileType'] = data['exiftool.EXE-ObjectFileType'].fillna('Unknown').astype('category')"
   ]
  },
  {
   "cell_type": "code",
   "execution_count": 247,
   "metadata": {},
   "outputs": [
    {
     "data": {
      "text/plain": [
       "Unknown                   15632\n",
       "Executable application     3430\n",
       "Dynamic link library        888\n",
       "Driver                       47\n",
       "Static library                3\n",
       "Name: FileType, dtype: int64"
      ]
     },
     "execution_count": 247,
     "metadata": {},
     "output_type": "execute_result"
    }
   ],
   "source": [
    "# Example of filetype categories\n",
    "data.FileType.value_counts()"
   ]
  },
  {
   "cell_type": "markdown",
   "metadata": {},
   "source": [
    "#### Columns 'exiftool.EXE-LegalCopyright', 'exiftool.EXE-FileDescription':\n",
    "<u>Description:</u> shows copyright and a description of the file<br>\n",
    "<u>Action:</u> create a boolean telling if the file has copyright/description"
   ]
  },
  {
   "cell_type": "code",
   "execution_count": 248,
   "metadata": {},
   "outputs": [],
   "source": [
    "data['HasCopyright'] = data['exiftool.EXE-LegalCopyright'].isnull() == False"
   ]
  },
  {
   "cell_type": "code",
   "execution_count": 249,
   "metadata": {},
   "outputs": [],
   "source": [
    "data['HasDescription'] = data['exiftool.EXE-FileDescription'].isnull() == False"
   ]
  },
  {
   "cell_type": "markdown",
   "metadata": {},
   "source": [
    "#### Columns 'exiftool.EXE-ObjectFileType':\n",
    "<u>Description:</u> file type<br>\n",
    "<u>Action:</u> create categories for this column"
   ]
  },
  {
   "cell_type": "code",
   "execution_count": null,
   "metadata": {},
   "outputs": [],
   "source": []
  },
  {
   "cell_type": "code",
   "execution_count": 64,
   "metadata": {},
   "outputs": [],
   "source": [
    "data['IsMalware']  = (data['vt.total_scans'] >= 50).astype(int)"
   ]
  },
  {
   "cell_type": "code",
   "execution_count": 194,
   "metadata": {},
   "outputs": [],
   "source": [
    "items = ['HasUrls',\n",
    "         #'CRC',\n",
    "         'DLL_COUNT',\n",
    "         'CodeSize',\n",
    "         'FileSize',\n",
    "#          'mss_coordinates.BawaneH',\n",
    "#          'mss_coordinates.MultiEncryptWinDLL',\n",
    "#          'mss_coordinates.Sayonara',\n",
    "#          'mss_coordinates.WhatsappSLDLL',         \n",
    "         'Library',\n",
    "         'Compiler',\n",
    "         'Linker',\n",
    "         'CharSet',\n",
    "         'FileType',\n",
    "         'HasCopyright',\n",
    "         'HasDescription',\n",
    "         'IsMalware'\n",
    "        ]"
   ]
  },
  {
   "cell_type": "code",
   "execution_count": 195,
   "metadata": {},
   "outputs": [],
   "source": [
    "data_fil = data.filter(items)\n",
    "data_fil.drop_duplicates(inplace=True)"
   ]
  },
  {
   "cell_type": "code",
   "execution_count": 136,
   "metadata": {},
   "outputs": [],
   "source": [
    "categoricals = ['exiftool.File-FileTypeExtension', 'exiftool.EXE-ObjectFileType']\n",
    "numbers = ['exiftool.EXE-UninitializedDataSize']"
   ]
  },
  {
   "cell_type": "code",
   "execution_count": null,
   "metadata": {},
   "outputs": [],
   "source": [
    "data['exiftool.EXE-CharacterSet'].value_counts()"
   ]
  },
  {
   "cell_type": "code",
   "execution_count": null,
   "metadata": {},
   "outputs": [],
   "source": [
    "data['die.linker'].astype('str').apply(lambda x: re.sub(r'\\(.*','',x.lower())).value_counts()"
   ]
  },
  {
   "cell_type": "code",
   "execution_count": null,
   "metadata": {},
   "outputs": [],
   "source": [
    "data['die.library'].astype('str').apply(lambda x: re.sub(r'\\(.*','',x.lower())).value_counts()"
   ]
  },
  {
   "cell_type": "code",
   "execution_count": null,
   "metadata": {
    "scrolled": true
   },
   "outputs": [],
   "source": [
    "import numpy as np\n",
    "\n",
    "#### Features importantes para serem estudadas mais a frente #####\n",
    "#    static.pe.pe_sections, vt.json                              #\n",
    "#----------------------------------------------------------------#\n",
    "\n",
    "data_fil = data.filter(items=['crc32',\n",
    "                              'exiftool.EXE-OSVersion',\n",
    "                              'exiftool.EXE-LinkerVersion',\n",
    "                              'static.pe.imported_dll_count',\n",
    "#                               'static.pe.pe_timestamp',\n",
    "#                               'vt.positives',\n",
    "#                               'vt.modified_at.$date',                              \n",
    "                              'exiftool.EXE-AssemblyVersion',\n",
    "                              'exiftool.EXE-CodeSize',\n",
    "                              #'exiftool.EXE-FileSubtype',\n",
    "                              'exiftool.EXE-FileVersionNumber',\n",
    "                              'exiftool.EXE-ImageVersion',\n",
    "                              'exiftool.EXE-InitializedDataSize',\n",
    "                              'exiftool.EXE-ProductVersionNumber',\n",
    "#                               'exiftool.EXE-TimeStamp',\n",
    "                              'exiftool.EXE-UninitializedDataSize',\n",
    "                              'exiftool.File-FileSize',\n",
    "                              'mss_coordinates.BawaneH',\n",
    "                              'mss_coordinates.MultiEncryptWinDLL',\n",
    "                              'mss_coordinates.Sayonara',\n",
    "                              'mss_coordinates.WhatsappSLDLL',\n",
    "                              'signinfo.valid',\n",
    "                              'size',\n",
    "                              'vt.total_scans'])\n",
    "data_fil = data_fil.fillna(0)\n",
    "# data_fil['static.pe.pe_timestamp'] = data_fil['static.pe.pe_timestamp'].str.replace('\\W+', '').fillna(0).astype(int)\n",
    "# data_fil['vt.modified_at.$date'] = data_fil['vt.modified_at.$date'].replace('\\W+', '').fillna(0).astype(int)\n",
    "data_fil['signinfo.valid'] = data_fil['signinfo.valid'].astype(np.int)\n",
    "data_fil['exiftool.File-FileSize'] = data_fil['exiftool.File-FileSize'].str.replace(r'\\D+', '').astype('int')\n",
    "# data_fil['exiftool.EXE-TimeStamp'] = data_fil['exiftool.EXE-TimeStamp'].str.replace('\\W+', '').fillna(0).astype(int)\n",
    "data_fil['exiftool.EXE-FileVersionNumber'] = data_fil['exiftool.EXE-FileVersionNumber'].str.replace('\\W+', '').fillna(0).astype(int)\n",
    "data_fil['exiftool.EXE-AssemblyVersion'] = data_fil['exiftool.EXE-AssemblyVersion'].str.replace('\\W+', '').fillna(0).replace('', 0).astype(int)\n",
    "data_fil['exiftool.EXE-ProductVersionNumber'] = data_fil['exiftool.EXE-ProductVersionNumber'].str.replace('\\W+', '').fillna(0).astype(int)\n",
    "# data_fil['mss_coordinates.WhatsappSLDLL'] = data_fil['mss_coordinates.WhatsappSLDLL'].replace('\\W+', '').fillna(0).replace('', '0').astype(int)\n",
    "# data_fil['mss_coordinates.Sayonara'] = data_fil['mss_coordinates.Sayonara'].replace('\\W+', '').fillna(0).replace('', '0').astype(int)\n",
    "# data_fil['mss_coordinates.MultiEncryptWinDLL'] = data_fil['mss_coordinates.MultiEncryptWinDLL'].replace('\\W+', '').fillna(0).replace('', '0').astype(int)\n",
    "# data_fil['mss_coordinates.BawaneH'] = data_fil['mss_coordinates.BawaneH'].replace('\\W+', '').fillna(0).replace('', '0').astype(int)\n",
    "\n",
    "# -------------- Creating the label value -------------------\n",
    "data_fil['ismalware']  = (data_fil['vt.total_scans'] >= 50).astype(np.int)\n",
    "data_fil.shape\n",
    "#------------------------------------------------------------\n",
    "\n",
    "data_fil"
   ]
  },
  {
   "cell_type": "code",
   "execution_count": null,
   "metadata": {},
   "outputs": [],
   "source": [
    "# data_fil['exiftool.EXE-AssemblyVersion'].str.replace('\\W+', '').fillna(0).replace('', '0').astype(int)\n",
    "# data_fil['exiftool.EXE-ProductVersionNumber'].str.replace('\\W+', '').fillna(0).astype(int)\n",
    "# data_fil['signinfo.valid']"
   ]
  },
  {
   "cell_type": "code",
   "execution_count": 196,
   "metadata": {},
   "outputs": [],
   "source": [
    "from sklearn.preprocessing import LabelEncoder\n",
    "enc = LabelEncoder()\n",
    "\n",
    "categoricals = ['FileSize', 'Library', 'Compiler', 'Linker', 'CharSet', 'FileType']\n",
    "for cat in categoricals:\n",
    "    data_fil[cat] = enc.fit_transform(data_fil['FileSize'])\n"
   ]
  },
  {
   "cell_type": "code",
   "execution_count": 197,
   "metadata": {},
   "outputs": [
    {
     "name": "stdout",
     "output_type": "stream",
     "text": [
      "<class 'pandas.core.frame.DataFrame'>\n",
      "Int64Index: 5129 entries, 0 to 19999\n",
      "Data columns (total 12 columns):\n",
      "HasUrls           5129 non-null bool\n",
      "DLL_COUNT         5129 non-null int64\n",
      "CodeSize          5129 non-null int64\n",
      "FileSize          5129 non-null int64\n",
      "Library           5129 non-null int64\n",
      "Compiler          5129 non-null int64\n",
      "Linker            5129 non-null int64\n",
      "CharSet           5129 non-null int64\n",
      "FileType          5129 non-null int64\n",
      "HasCopyright      5129 non-null bool\n",
      "HasDescription    5129 non-null bool\n",
      "IsMalware         5129 non-null int64\n",
      "dtypes: bool(3), int64(9)\n",
      "memory usage: 415.7 KB\n"
     ]
    }
   ],
   "source": [
    "data_fil.info()"
   ]
  },
  {
   "cell_type": "markdown",
   "metadata": {},
   "source": [
    "## Spliting Dataframe / Feature processing"
   ]
  },
  {
   "cell_type": "code",
   "execution_count": 199,
   "metadata": {},
   "outputs": [],
   "source": [
    "from sklearn.preprocessing import StandardScaler\n",
    "numbers = ['DLL_COUNT','CodeSize']#,'mss_coordinates.BawaneH','mss_coordinates.MultiEncryptWinDLL','mss_coordinates.Sayonara','mss_coordinates.WhatsappSLDLL']\n",
    "sc = StandardScaler()\n",
    "data_fil[numbers] = sc.fit_transform(data_fil[numbers])"
   ]
  },
  {
   "cell_type": "code",
   "execution_count": 200,
   "metadata": {},
   "outputs": [
    {
     "name": "stdout",
     "output_type": "stream",
     "text": [
      "<class 'pandas.core.frame.DataFrame'>\n",
      "Int64Index: 5129 entries, 0 to 19999\n",
      "Data columns (total 12 columns):\n",
      "HasUrls           5129 non-null bool\n",
      "DLL_COUNT         5129 non-null float64\n",
      "CodeSize          5129 non-null float64\n",
      "FileSize          5129 non-null int64\n",
      "Library           5129 non-null int64\n",
      "Compiler          5129 non-null int64\n",
      "Linker            5129 non-null int64\n",
      "CharSet           5129 non-null int64\n",
      "FileType          5129 non-null int64\n",
      "HasCopyright      5129 non-null bool\n",
      "HasDescription    5129 non-null bool\n",
      "IsMalware         5129 non-null int64\n",
      "dtypes: bool(3), float64(2), int64(7)\n",
      "memory usage: 415.7 KB\n"
     ]
    }
   ],
   "source": [
    "data_fil.info()"
   ]
  },
  {
   "cell_type": "code",
   "execution_count": 201,
   "metadata": {},
   "outputs": [],
   "source": [
    "from sklearn.model_selection import train_test_split\n",
    "\n",
    "features = data_fil.columns.drop('IsMalware')\n",
    "# noise_features = df_train.head(1).filter(regex='.*noise.*', axis=1).columns\n",
    "X = data_fil[features]\n",
    "y = data_fil['IsMalware']\n",
    "\n",
    "X_train, X_test, y_train, y_test = train_test_split(X, y, test_size=0.2, shuffle=True,\n",
    "                                                    stratify=y, random_state=1995)"
   ]
  },
  {
   "cell_type": "code",
   "execution_count": 202,
   "metadata": {
    "scrolled": true
   },
   "outputs": [
    {
     "data": {
      "text/plain": [
       "array([0, 1])"
      ]
     },
     "execution_count": 202,
     "metadata": {},
     "output_type": "execute_result"
    }
   ],
   "source": [
    "np.unique(y)"
   ]
  },
  {
   "cell_type": "code",
   "execution_count": 203,
   "metadata": {},
   "outputs": [
    {
     "data": {
      "text/plain": [
       "<matplotlib.axes._subplots.AxesSubplot at 0x7f0bc393b160>"
      ]
     },
     "execution_count": 203,
     "metadata": {},
     "output_type": "execute_result"
    },
    {
     "data": {
      "image/png": "[encoded data removed]",
      "text/plain": [
       "<Figure size 216x216 with 1 Axes>"
      ]
     },
     "metadata": {},
     "output_type": "display_data"
    }
   ],
   "source": [
    "import matplotlib.pyplot as plt\n",
    "%matplotlib inline\n",
    "data_fil['IsMalware'].value_counts().plot(\n",
    "    kind='pie', autopct='%.2f%%', figsize=(3, 3), label='')"
   ]
  },
  {
   "cell_type": "markdown",
   "metadata": {},
   "source": [
    "## K-fold - Cross Validation"
   ]
  },
  {
   "cell_type": "code",
   "execution_count": null,
   "metadata": {},
   "outputs": [],
   "source": []
  },
  {
   "cell_type": "code",
   "execution_count": 204,
   "metadata": {},
   "outputs": [
    {
     "name": "stdout",
     "output_type": "stream",
     "text": [
      "Feautures: 11\n"
     ]
    }
   ],
   "source": [
    "from sklearn.model_selection import StratifiedKFold\n",
    "# n_classes = df_train.device.nunique()\n",
    "\n",
    "cv = StratifiedKFold(5, True, 1995)\n",
    "\n",
    "print(\"Feautures: {}\".format(len(features)))\n",
    "\n",
    "# n_classest = df_test.device.nunique()\n",
    "\n",
    "# print(\"Feautures: {}\".format(len(lbp_features)))\n",
    "# df_train.device.unique()"
   ]
  },
  {
   "cell_type": "markdown",
   "metadata": {},
   "source": [
    "## Random-Forest"
   ]
  },
  {
   "cell_type": "code",
   "execution_count": 205,
   "metadata": {
    "scrolled": true
   },
   "outputs": [
    {
     "name": "stdout",
     "output_type": "stream",
     "text": [
      "[0.82553606 0.83528265 0.83820663 0.83625731 0.83707317] 0.8344711643607663\n",
      "CPU times: user 1.69 s, sys: 0 ns, total: 1.69 s\n",
      "Wall time: 1.69 s\n"
     ]
    }
   ],
   "source": [
    "%%time\n",
    "from sklearn.ensemble import RandomForestClassifier\n",
    "from sklearn.model_selection import cross_val_score, StratifiedKFold\n",
    "\n",
    "classifier = RandomForestClassifier(100, random_state=1995)\n",
    "scores = cross_val_score(classifier, X, y, scoring='accuracy', cv=cv)\n",
    "print(scores, scores.mean())"
   ]
  },
  {
   "cell_type": "code",
   "execution_count": 206,
   "metadata": {},
   "outputs": [
    {
     "data": {
      "text/plain": [
       "1026"
      ]
     },
     "execution_count": 206,
     "metadata": {},
     "output_type": "execute_result"
    }
   ],
   "source": [
    "classifier.fit(X_train,y_train)\n",
    "\n",
    "class1 = classifier.predict(X_test)\n",
    "class1.size"
   ]
  },
  {
   "cell_type": "code",
   "execution_count": 207,
   "metadata": {
    "scrolled": false
   },
   "outputs": [],
   "source": [
    "# for i in class1:\n",
    "#     print(class1[i], '---', y_test[i])."
   ]
  },
  {
   "cell_type": "code",
   "execution_count": 208,
   "metadata": {},
   "outputs": [
    {
     "data": {
      "text/plain": [
       "(901, 921)"
      ]
     },
     "execution_count": 208,
     "metadata": {},
     "output_type": "execute_result"
    }
   ],
   "source": [
    "np.count_nonzero(y_test==1), np.count_nonzero(class1==1)"
   ]
  },
  {
   "cell_type": "code",
   "execution_count": 209,
   "metadata": {},
   "outputs": [
    {
     "data": {
      "text/plain": [
       "array([ 2.03360026, 28.02609789, 64.35075698,  0.41077321,  0.38479828,\n",
       "        0.38776825,  0.33246536,  0.35572402,  0.31413093,  1.61925592,\n",
       "        1.78462891])"
      ]
     },
     "execution_count": 209,
     "metadata": {},
     "output_type": "execute_result"
    }
   ],
   "source": [
    "classifier.feature_importances_*100"
   ]
  },
  {
   "cell_type": "code",
   "execution_count": 216,
   "metadata": {},
   "outputs": [
    {
     "data": {
      "text/html": [
       "<div>\n",
       "<style scoped>\n",
       "    .dataframe tbody tr th:only-of-type {\n",
       "        vertical-align: middle;\n",
       "    }\n",
       "\n",
       "    .dataframe tbody tr th {\n",
       "        vertical-align: top;\n",
       "    }\n",
       "\n",
       "    .dataframe thead th {\n",
       "        text-align: right;\n",
       "    }\n",
       "</style>\n",
       "<table border=\"1\" class=\"dataframe\">\n",
       "  <thead>\n",
       "    <tr style=\"text-align: right;\">\n",
       "      <th></th>\n",
       "      <th>HasUrls</th>\n",
       "      <th>DLL_COUNT</th>\n",
       "      <th>CodeSize</th>\n",
       "      <th>FileSize</th>\n",
       "      <th>Library</th>\n",
       "      <th>Compiler</th>\n",
       "      <th>Linker</th>\n",
       "      <th>CharSet</th>\n",
       "      <th>FileType</th>\n",
       "      <th>HasCopyright</th>\n",
       "      <th>HasDescription</th>\n",
       "    </tr>\n",
       "  </thead>\n",
       "  <tbody>\n",
       "    <tr>\n",
       "      <th>HasUrls</th>\n",
       "      <td>100.000000</td>\n",
       "      <td>9.443954</td>\n",
       "      <td>6.653424</td>\n",
       "      <td>-26.413471</td>\n",
       "      <td>-26.413471</td>\n",
       "      <td>-26.413471</td>\n",
       "      <td>-26.413471</td>\n",
       "      <td>-26.413471</td>\n",
       "      <td>-26.413471</td>\n",
       "      <td>10.888245</td>\n",
       "      <td>11.550617</td>\n",
       "    </tr>\n",
       "    <tr>\n",
       "      <th>DLL_COUNT</th>\n",
       "      <td>9.443954</td>\n",
       "      <td>100.000000</td>\n",
       "      <td>1.604002</td>\n",
       "      <td>-12.560209</td>\n",
       "      <td>-12.560209</td>\n",
       "      <td>-12.560209</td>\n",
       "      <td>-12.560209</td>\n",
       "      <td>-12.560209</td>\n",
       "      <td>-12.560209</td>\n",
       "      <td>1.614782</td>\n",
       "      <td>2.370141</td>\n",
       "    </tr>\n",
       "    <tr>\n",
       "      <th>CodeSize</th>\n",
       "      <td>6.653424</td>\n",
       "      <td>1.604002</td>\n",
       "      <td>100.000000</td>\n",
       "      <td>-9.645166</td>\n",
       "      <td>-9.645166</td>\n",
       "      <td>-9.645166</td>\n",
       "      <td>-9.645166</td>\n",
       "      <td>-9.645166</td>\n",
       "      <td>-9.645166</td>\n",
       "      <td>-1.043474</td>\n",
       "      <td>-1.157679</td>\n",
       "    </tr>\n",
       "    <tr>\n",
       "      <th>FileSize</th>\n",
       "      <td>-26.413471</td>\n",
       "      <td>-12.560209</td>\n",
       "      <td>-9.645166</td>\n",
       "      <td>100.000000</td>\n",
       "      <td>100.000000</td>\n",
       "      <td>100.000000</td>\n",
       "      <td>100.000000</td>\n",
       "      <td>100.000000</td>\n",
       "      <td>100.000000</td>\n",
       "      <td>0.970954</td>\n",
       "      <td>0.642811</td>\n",
       "    </tr>\n",
       "    <tr>\n",
       "      <th>Library</th>\n",
       "      <td>-26.413471</td>\n",
       "      <td>-12.560209</td>\n",
       "      <td>-9.645166</td>\n",
       "      <td>100.000000</td>\n",
       "      <td>100.000000</td>\n",
       "      <td>100.000000</td>\n",
       "      <td>100.000000</td>\n",
       "      <td>100.000000</td>\n",
       "      <td>100.000000</td>\n",
       "      <td>0.970954</td>\n",
       "      <td>0.642811</td>\n",
       "    </tr>\n",
       "    <tr>\n",
       "      <th>Compiler</th>\n",
       "      <td>-26.413471</td>\n",
       "      <td>-12.560209</td>\n",
       "      <td>-9.645166</td>\n",
       "      <td>100.000000</td>\n",
       "      <td>100.000000</td>\n",
       "      <td>100.000000</td>\n",
       "      <td>100.000000</td>\n",
       "      <td>100.000000</td>\n",
       "      <td>100.000000</td>\n",
       "      <td>0.970954</td>\n",
       "      <td>0.642811</td>\n",
       "    </tr>\n",
       "    <tr>\n",
       "      <th>Linker</th>\n",
       "      <td>-26.413471</td>\n",
       "      <td>-12.560209</td>\n",
       "      <td>-9.645166</td>\n",
       "      <td>100.000000</td>\n",
       "      <td>100.000000</td>\n",
       "      <td>100.000000</td>\n",
       "      <td>100.000000</td>\n",
       "      <td>100.000000</td>\n",
       "      <td>100.000000</td>\n",
       "      <td>0.970954</td>\n",
       "      <td>0.642811</td>\n",
       "    </tr>\n",
       "    <tr>\n",
       "      <th>CharSet</th>\n",
       "      <td>-26.413471</td>\n",
       "      <td>-12.560209</td>\n",
       "      <td>-9.645166</td>\n",
       "      <td>100.000000</td>\n",
       "      <td>100.000000</td>\n",
       "      <td>100.000000</td>\n",
       "      <td>100.000000</td>\n",
       "      <td>100.000000</td>\n",
       "      <td>100.000000</td>\n",
       "      <td>0.970954</td>\n",
       "      <td>0.642811</td>\n",
       "    </tr>\n",
       "    <tr>\n",
       "      <th>FileType</th>\n",
       "      <td>-26.413471</td>\n",
       "      <td>-12.560209</td>\n",
       "      <td>-9.645166</td>\n",
       "      <td>100.000000</td>\n",
       "      <td>100.000000</td>\n",
       "      <td>100.000000</td>\n",
       "      <td>100.000000</td>\n",
       "      <td>100.000000</td>\n",
       "      <td>100.000000</td>\n",
       "      <td>0.970954</td>\n",
       "      <td>0.642811</td>\n",
       "    </tr>\n",
       "    <tr>\n",
       "      <th>HasCopyright</th>\n",
       "      <td>10.888245</td>\n",
       "      <td>1.614782</td>\n",
       "      <td>-1.043474</td>\n",
       "      <td>0.970954</td>\n",
       "      <td>0.970954</td>\n",
       "      <td>0.970954</td>\n",
       "      <td>0.970954</td>\n",
       "      <td>0.970954</td>\n",
       "      <td>0.970954</td>\n",
       "      <td>100.000000</td>\n",
       "      <td>93.177594</td>\n",
       "    </tr>\n",
       "    <tr>\n",
       "      <th>HasDescription</th>\n",
       "      <td>11.550617</td>\n",
       "      <td>2.370141</td>\n",
       "      <td>-1.157679</td>\n",
       "      <td>0.642811</td>\n",
       "      <td>0.642811</td>\n",
       "      <td>0.642811</td>\n",
       "      <td>0.642811</td>\n",
       "      <td>0.642811</td>\n",
       "      <td>0.642811</td>\n",
       "      <td>93.177594</td>\n",
       "      <td>100.000000</td>\n",
       "    </tr>\n",
       "  </tbody>\n",
       "</table>\n",
       "</div>"
      ],
      "text/plain": [
       "                   HasUrls   DLL_COUNT    CodeSize    FileSize     Library  \\\n",
       "HasUrls         100.000000    9.443954    6.653424  -26.413471  -26.413471   \n",
       "DLL_COUNT         9.443954  100.000000    1.604002  -12.560209  -12.560209   \n",
       "CodeSize          6.653424    1.604002  100.000000   -9.645166   -9.645166   \n",
       "FileSize        -26.413471  -12.560209   -9.645166  100.000000  100.000000   \n",
       "Library         -26.413471  -12.560209   -9.645166  100.000000  100.000000   \n",
       "Compiler        -26.413471  -12.560209   -9.645166  100.000000  100.000000   \n",
       "Linker          -26.413471  -12.560209   -9.645166  100.000000  100.000000   \n",
       "CharSet         -26.413471  -12.560209   -9.645166  100.000000  100.000000   \n",
       "FileType        -26.413471  -12.560209   -9.645166  100.000000  100.000000   \n",
       "HasCopyright     10.888245    1.614782   -1.043474    0.970954    0.970954   \n",
       "HasDescription   11.550617    2.370141   -1.157679    0.642811    0.642811   \n",
       "\n",
       "                  Compiler      Linker     CharSet    FileType  HasCopyright  \\\n",
       "HasUrls         -26.413471  -26.413471  -26.413471  -26.413471     10.888245   \n",
       "DLL_COUNT       -12.560209  -12.560209  -12.560209  -12.560209      1.614782   \n",
       "CodeSize         -9.645166   -9.645166   -9.645166   -9.645166     -1.043474   \n",
       "FileSize        100.000000  100.000000  100.000000  100.000000      0.970954   \n",
       "Library         100.000000  100.000000  100.000000  100.000000      0.970954   \n",
       "Compiler        100.000000  100.000000  100.000000  100.000000      0.970954   \n",
       "Linker          100.000000  100.000000  100.000000  100.000000      0.970954   \n",
       "CharSet         100.000000  100.000000  100.000000  100.000000      0.970954   \n",
       "FileType        100.000000  100.000000  100.000000  100.000000      0.970954   \n",
       "HasCopyright      0.970954    0.970954    0.970954    0.970954    100.000000   \n",
       "HasDescription    0.642811    0.642811    0.642811    0.642811     93.177594   \n",
       "\n",
       "                HasDescription  \n",
       "HasUrls              11.550617  \n",
       "DLL_COUNT             2.370141  \n",
       "CodeSize             -1.157679  \n",
       "FileSize              0.642811  \n",
       "Library               0.642811  \n",
       "Compiler              0.642811  \n",
       "Linker                0.642811  \n",
       "CharSet               0.642811  \n",
       "FileType              0.642811  \n",
       "HasCopyright         93.177594  \n",
       "HasDescription      100.000000  "
      ]
     },
     "execution_count": 216,
     "metadata": {},
     "output_type": "execute_result"
    }
   ],
   "source": [
    "X.corr()*100"
   ]
  },
  {
   "cell_type": "code",
   "execution_count": null,
   "metadata": {},
   "outputs": [],
   "source": [
    "data_fil['exiftool.EXE-TimeStamp'].apply(lambda x: round(x/10000000000)).value_counts()"
   ]
  },
  {
   "cell_type": "code",
   "execution_count": null,
   "metadata": {},
   "outputs": [],
   "source": [
    "data_fil['exiftool.EXE-OSVersion']"
   ]
  },
  {
   "cell_type": "code",
   "execution_count": null,
   "metadata": {},
   "outputs": [],
   "source": []
  },
  {
   "cell_type": "code",
   "execution_count": null,
   "metadata": {},
   "outputs": [],
   "source": []
  },
  {
   "cell_type": "code",
   "execution_count": null,
   "metadata": {},
   "outputs": [],
   "source": []
  }
 ],
 "metadata": {
  "kernelspec": {
   "display_name": "Python 3",
   "language": "python",
   "name": "python3"
  },
  "language_info": {
   "codemirror_mode": {
    "name": "ipython",
    "version": 3
   },
   "file_extension": ".py",
   "mimetype": "text/x-python",
   "name": "python",
   "nbconvert_exporter": "python",
   "pygments_lexer": "ipython3",
   "version": "3.5.2"
  }
 },
 "nbformat": 4,
 "nbformat_minor": 2
}
